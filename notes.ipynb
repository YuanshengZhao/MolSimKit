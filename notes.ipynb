{
 "cells": [
  {
   "cell_type": "markdown",
   "metadata": {},
   "source": [
    "#### Rigid body intergrator\n",
    "- see  Igor P. Omelyan (1999) \"A New Leapfrog Integrator of Rotational Motion. The Revised Angular-Momentum Approach,\" Molecular Simulation, 22:3, 213-236\n",
    "    - note that the $A$ in this paper is the transpose of rotational matrix used in the program"
   ]
  },
  {
   "cell_type": "markdown",
   "metadata": {},
   "source": [
    "#### Hessian of pair potential\n",
    "- Due to translational symmetry, $$\\frac{\\partial^2U}{\\partial \\mathbf x_i\\partial \\mathbf x_i}+\\sum_{j\\ne i}\\frac{\\partial^2U}{\\partial \\mathbf x_i\\partial \\mathbf x_j}=0$$\n",
    "- For potential $U=U(r_{ij}^2)$ ($i\\ne j$), $$\\frac{\\partial^2U}{\\partial x_i^\\mu\\partial x_j^\\nu}=-4(x_i^\\mu-x_j^\\mu)(x_i^\\nu-x_j^\\nu) U''(r_{ij}^2)-2U'(r_{ij}^2)\\delta_{\\mu\\nu}$$"
   ]
  },
  {
   "cell_type": "markdown",
   "metadata": {},
   "source": [
    "#### Expansion of potential at local minimum\n",
    "- Use generalized coordinates $q$,\n",
    "$$0=\\frac{\\partial U}{\\partial q_\\alpha}=\\frac{\\partial U}{\\partial x_i^\\mu}\\frac{\\partial x_i^\\mu}{\\partial q_\\alpha}$$\n",
    "$$\\begin{split}\\frac{\\partial^2 U}{\\partial q_\\alpha\\partial q_\\beta}&{}\n",
    "=\\frac{\\partial}{\\partial q_\\beta}\\left(\\frac{\\partial U}{\\partial x_i^\\mu}\\frac{\\partial x_i^\\mu}{\\partial q_\\alpha}\\right)\\\\\n",
    "&{}=\\frac{\\partial x_j^\\nu}{\\partial q_\\beta}\\frac{\\partial^2 U}{\\partial x_i^\\mu\\partial x_j^\\nu}\\frac{\\partial x_i^\\mu}{\\partial q_\\alpha}+\\frac{\\partial^2 x_i^\\mu}{\\partial q_\\alpha\\partial q_\\beta}\\frac{\\partial U}{\\partial x_i^\\mu}\n",
    "\\end{split}$$\n",
    "- $\\frac{\\partial x_j^\\nu}{\\partial q_\\beta}$ is block diagonal"
   ]
  },
  {
   "cell_type": "markdown",
   "metadata": {},
   "source": [
    "#### Eigen mode analysis\n",
    "- Lagrangian $$L=\\frac 12 \\dot {\\mathbf Q}^T M  \\dot{\\mathbf Q} - \\frac 12 {\\mathbf Q}^T K \\mathbf Q$$\n",
    "with $M$ and $K$ both positive definite\n",
    "- Let $M^{-1}=U^TU$ (Cholesky), $Q=U^T \\mathbf S$, then $$L=\\frac 12 \\dot {\\mathbf S}^T \\dot {\\mathbf S} - \\frac 12 {\\mathbf S}^T UKU^T \\mathbf S$$\n",
    "- Diagnolize: $UKU^T=J^T\\Omega^2J$, with $J^TJ=I$, $S=J^TG$ and $$L=\\frac 12 \\dot {\\mathbf G}^T \\dot {\\mathbf G} - \\frac 12 {\\mathbf G}^T \\Omega^2 \\mathbf G$$\n",
    "- EOM: $$\\ddot G_s+ \\Omega_s^2G_s=0$$\n",
    "- $$r_i^\\mu=\\left[JU\\frac{\\partial r_i^\\mu}{\\partial \\mathbf Q}\\right]^T\\mathbf G=\\mathbf T_i^\\mu\\cdot\\mathbf G$$"
   ]
  },
  {
   "cell_type": "markdown",
   "metadata": {},
   "source": [
    "#### Neutron spectrum under harmonic approximation\n",
    "- $$S(Q,\\omega)=\\sum_{ij} b_i b_j \\exp(-i\\mathbf Q \\cdot (\\mathbf r_{i,0}-\\mathbf r_{j,0})) \\int \\exp(-i\\omega t)\\,dt\\, \\langle \\exp(-i \\mathbf Q \\cdot \\mathbf r_i(0))\\exp(i \\mathbf Q \\cdot \\mathbf r_j(t)) \\rangle$$\n",
    "- Let $U=-i \\mathbf Q \\cdot \\mathbf r_i(0)$, $V=i \\mathbf Q \\cdot \\mathbf r_j(t)$\n",
    "- Using ladder operator: $G_s=\\sqrt{\\frac{\\hbar}{2m\\omega_s}}(a_s^\\dagger+a_s)$. The time development is $$\\frac{d a_s}{dt}=-i\\omega_s[a_s, a_s^\\dagger a_s]=-i\\omega_sa_s \\Rightarrow a_s(t)=\\exp(-i\\omega_s t)a_s$$"
   ]
  },
  {
   "cell_type": "markdown",
   "metadata": {},
   "source": [
    "- Baker--Campbell--Hausdorff formula: since $[U,V]$ is just a number (not operator), then $e^Ue^V=e^{U+V+\\frac12[U,V]}$\n",
    "- For harmonic oscilator, the distribution of $\\mathbf r$ is gaussian, $\\langle e^U\\rangle=e^{\\langle U^2\\rangle/2}$ \n",
    "- Thus, we have $$\\langle e^Ue^V\\rangle=e^{\\langle(U+V)^2/2\\rangle}e^{[U,V]/2}=e^{\\langle U^2\\rangle/2}e^{\\langle V^2\\rangle/2}e^{\\langle UV\\rangle}$$\n",
    "- $e^{\\langle U^2\\rangle/2}e^{\\langle V^2\\rangle/2}$ is the Deby-Waller\n",
    "- $e^{\\langle UV\\rangle}=1+{\\langle UV\\rangle}+\\dots$ gives the phonon expansion"
   ]
  },
  {
   "cell_type": "markdown",
   "metadata": {},
   "source": [
    "$$\\begin{split}\\langle UV\\rangle&{}=Q^\\mu Q^\\nu r_i^\\mu(0)r_j^\\nu(t)\\\\\n",
    "&{}=Q^\\mu Q^\\nu T_{is}^\\mu T_{js}^\\nu \\frac{\\hbar}{2m\\omega_s}\\langle(a_s^\\dagger+a_s) (\\exp(i\\omega_s t)a_s^\\dagger+\\exp(-i\\omega_s t)a_s)\\rangle\\\\\n",
    "&{}=Q^\\mu Q^\\nu T_{is}^\\mu T_{js}^\\nu \\frac{\\hbar}{2m\\omega_s}(\\exp(-i\\omega_s t)\\langle n\\rangle +\\exp(i\\omega_s t)\\langle n+1\\rangle)\\\\\n",
    "&{}=Q^\\mu Q^\\nu T_{is}^\\mu T_{js}^\\nu \\frac{\\hbar}{2m\\omega_s}\\exp(i\\omega_s t)\n",
    "\\end{split}$$"
   ]
  },
  {
   "cell_type": "markdown",
   "metadata": {},
   "source": [
    "- Powder average: \n",
    "$$ \\exp(-i\\mathbf Q \\cdot (\\mathbf r_{i,0}-\\mathbf r_{j,0}))  \\rightarrow j_0(Qr)$$\n",
    "$$ \\exp(-i\\mathbf Q \\cdot (\\mathbf r_{i,0}-\\mathbf r_{j,0})) Q^\\mu Q^\\nu T_{is}^\\mu T_{js}^\\nu \\rightarrow Q^2\\left( T_{is,\\parallel}T_{js,\\parallel}j_0(Qr)+(T_{is}\\cdot T_{js}-3T_{is,\\parallel}T_{js,\\parallel})\\frac{j_1(Qr)}{Qr}\\right)$$"
   ]
  },
  {
   "cell_type": "markdown",
   "metadata": {},
   "source": [
    "#### Calculation of structure factor\n",
    "- The quantities to be evaluated is $$S(Q,F)=\\sum_{ij}F_{ij}\\exp(-i\\mathbf Q \\cdot (\\mathbf r_{i,0}-\\mathbf r_{j,0}))$$\n",
    "- If $F$ can be separated, $$S(Q,F)=\\left\\lvert\\sum_iF_i\\exp(-i\\mathbf Q \\cdot \\mathbf r_{i,0})\\right\\rvert^2$$ where the $\\mathbf Q$ only take reciprocal vectors\n",
    "- Otherwise, we can only use fourier transform method"
   ]
  },
  {
   "cell_type": "markdown",
   "metadata": {},
   "source": []
  }
 ],
 "metadata": {
  "kernelspec": {
   "display_name": "Python 3.9.6 64-bit",
   "language": "python",
   "name": "python3"
  },
  "language_info": {
   "name": "python",
   "version": "3.9.6"
  },
  "orig_nbformat": 4,
  "vscode": {
   "interpreter": {
    "hash": "31f2aee4e71d21fbe5cf8b01ff0e069b9275f58929596ceb00d14d90e3e16cd6"
   }
  }
 },
 "nbformat": 4,
 "nbformat_minor": 2
}
